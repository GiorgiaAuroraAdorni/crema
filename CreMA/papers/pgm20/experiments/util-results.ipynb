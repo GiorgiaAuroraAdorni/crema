{
 "cells": [
  {
   "cell_type": "code",
   "execution_count": 1,
   "metadata": {},
   "outputs": [],
   "source": [
    "import os\n",
    "import socket\n",
    "import subprocess\n",
    "import pandas as pd\n",
    "import io\n",
    "from contextlib import redirect_stdout\n",
    "import itertools\n",
    "import warnings\n",
    "from datetime import datetime\n",
    "import time\n",
    "import timeout_decorator\n",
    "import numpy as np\n",
    "import matplotlib.pyplot as plt\n",
    "import math\n",
    "import sys\n",
    "import tikzplotlib"
   ]
  },
  {
   "cell_type": "code",
   "execution_count": 2,
   "metadata": {},
   "outputs": [],
   "source": [
    "def islocal(): return socket.gethostname()==\"rc-idsia-macBook.local\"\n",
    "def isserver(): return socket.gethostname()==\"ec6120930b2d\"\n",
    "def strdate(): return datetime.today().strftime('%Y-%m-%d-%H-%M-%S')\n",
    "\n",
    "\n",
    "if islocal():\n",
    "    prj_path = \"/Users/rcabanas/GoogleDrive/IDSIA/causality/dev/crema/CreMA\"\n",
    "elif isserver():\n",
    "    prj_path=\"/home/rcabanas/work_java_crema/crema/CreMA\"\n",
    "else:\n",
    "    warnings.warn(\"Unknown server, set prj_path variable manually.\")\n",
    "    prj_path= \"\"                      # put here the absolute path to the CreMA foder <<<<<<"
   ]
  },
  {
   "cell_type": "code",
   "execution_count": 3,
   "metadata": {},
   "outputs": [
    {
     "name": "stdout",
     "output_type": "stream",
     "text": [
      "/home/rcabanas/work_java_crema/crema/CreMA\n"
     ]
    }
   ],
   "source": [
    "os.chdir(prj_path)\n",
    "!pwd"
   ]
  },
  {
   "cell_type": "code",
   "execution_count": 4,
   "metadata": {},
   "outputs": [],
   "source": [
    "exp_folder = f\"{prj_path}/papers/pgm20/experiments/\"\n",
    "log_folder = f\"{exp_folder}/logs/\"\n",
    "res_folder = f\"{exp_folder}/results/\"\n",
    "img_folder = f\"{exp_folder}/img/\""
   ]
  },
  {
   "cell_type": "code",
   "execution_count": 6,
   "metadata": {},
   "outputs": [],
   "source": [
    "sys.path.append(exp_folder)\n",
    "from utilplots import *"
   ]
  },
  {
   "cell_type": "code",
   "execution_count": 16,
   "metadata": {},
   "outputs": [],
   "source": [
    "## Concatenate results\n",
    "\n",
    "files = [f\"{res_folder}/2020-05-19-01-12-33_rhmm_nonmarkovian_ev.csv\", \n",
    "         f\"{res_folder}/2020-05-22-11-43-29_rhmm_nonmarkovian_ev.csv\"]\n",
    "\n",
    "newfilename = f\"{res_folder}/{strdate()}_rhmm_nonmarkovian_ev.csv\"\n",
    "\n",
    "####\n",
    "\n",
    "data = pd.concat([pd.read_csv(f, index_col=0) for f in files])\n",
    "\n",
    "#pd.to_csv()\n",
    "data.to_csv(newfilename)"
   ]
  },
  {
   "cell_type": "code",
   "execution_count": 17,
   "metadata": {},
   "outputs": [
    {
     "name": "stdout",
     "output_type": "stream",
     "text": [
      "On branch dev\n",
      "Your branch is up to date with 'origin/dev'.\n",
      "\n",
      "Changes not staged for commit:\n",
      "  (use \"git add <file>...\" to update what will be committed)\n",
      "  (use \"git checkout -- <file>...\" to discard changes in working directory)\n",
      "\n",
      "\t\u001b[31mmodified:   papers/pgm20/experiments/img/size_results.tex\u001b[m\n",
      "\t\u001b[31mmodified:   papers/pgm20/experiments/img/time_results.tex\u001b[m\n",
      "\t\u001b[31mmodified:   papers/pgm20/experiments/paper_results.ipynb\u001b[m\n",
      "\t\u001b[31mmodified:   papers/pgm20/experiments/precission_experiments.ipynb\u001b[m\n",
      "\t\u001b[31mmodified:   papers/pgm20/experiments/time_experiments.ipynb\u001b[m\n",
      "\t\u001b[31mmodified:   papers/pgm20/experiments/utilplots.py\u001b[m\n",
      "\n",
      "Untracked files:\n",
      "  (use \"git add <file>...\" to include in what will be committed)\n",
      "\n",
      "\t\u001b[31mpapers/pgm20/experiments/.ipynb_checkpoints/util-results-checkpoint.ipynb\u001b[m\n",
      "\t\u001b[31mpapers/pgm20/experiments/logs/.ipynb_checkpoints/2020-05-22-10-51-09_run_rhmm_nonmarkovian-checkpoint.txt\u001b[m\n",
      "\t\u001b[31mpapers/pgm20/experiments/logs/.ipynb_checkpoints/2020-05-22-13-46-04_run_chain_nonmarkovian-checkpoint.txt\u001b[m\n",
      "\t\u001b[31mpapers/pgm20/experiments/logs/2020-05-22-10-51-09_run_rhmm_nonmarkovian.txt\u001b[m\n",
      "\t\u001b[31mpapers/pgm20/experiments/logs/2020-05-22-13-42-50_run_hmm_nonmarkovian.txt\u001b[m\n",
      "\t\u001b[31mpapers/pgm20/experiments/logs/2020-05-22-13-46-04_run_chain_nonmarkovian.txt\u001b[m\n",
      "\t\u001b[31mpapers/pgm20/experiments/results/.ipynb_checkpoints/2020-05-15-06-25-18_chain_nonmarkovian_ev-checkpoint.csv\u001b[m\n",
      "\t\u001b[31mpapers/pgm20/experiments/results/.ipynb_checkpoints/2020-05-22-13-25-24_rhmm_nonmarkovian_ev-checkpoint.csv\u001b[m\n",
      "\t\u001b[31mpapers/pgm20/experiments/results/2020-05-22-11-43-29_rhmm_nonmarkovian_ev.csv\u001b[m\n",
      "\t\u001b[31mpapers/pgm20/experiments/results/2020-05-22-13-25-24_rhmm_nonmarkovian_ev.csv\u001b[m\n",
      "\t\u001b[31mpapers/pgm20/experiments/util-results.ipynb\u001b[m\n",
      "\n",
      "no changes added to commit (use \"git add\" and/or \"git commit -a\")\n"
     ]
    }
   ],
   "source": [
    "!git status"
   ]
  },
  {
   "cell_type": "code",
   "execution_count": null,
   "metadata": {},
   "outputs": [],
   "source": [
    "!git add "
   ]
  }
 ],
 "metadata": {
  "kernelspec": {
   "display_name": "Python 3",
   "language": "python",
   "name": "python3"
  },
  "language_info": {
   "codemirror_mode": {
    "name": "ipython",
    "version": 3
   },
   "file_extension": ".py",
   "mimetype": "text/x-python",
   "name": "python",
   "nbconvert_exporter": "python",
   "pygments_lexer": "ipython3",
   "version": "3.7.4"
  }
 },
 "nbformat": 4,
 "nbformat_minor": 4
}
