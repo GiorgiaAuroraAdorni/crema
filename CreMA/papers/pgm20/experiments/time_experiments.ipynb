{
 "cells": [
  {
   "cell_type": "code",
   "execution_count": 16,
   "metadata": {},
   "outputs": [],
   "source": [
    "import os\n",
    "import socket\n",
    "import subprocess\n",
    "import pandas as pd\n",
    "import io\n",
    "from contextlib import redirect_stdout\n",
    "import itertools\n",
    "import warnings\n",
    "from datetime import datetime\n",
    "import time\n",
    "import timeout_decorator\n",
    "import numpy as np\n",
    "import matplotlib.pyplot as plt\n",
    "\n"
   ]
  },
  {
   "cell_type": "code",
   "execution_count": 17,
   "metadata": {},
   "outputs": [
    {
     "name": "stdout",
     "output_type": "stream",
     "text": [
      "/Users/rcabanas/work_java_crema/crema/CreMA\n"
     ]
    }
   ],
   "source": [
    "def islocal(): return socket.gethostname()==\"rc-idsia-macBook.local\"\n",
    "def isserver(): return socket.gethostname()==\"ec6120930b2d\"\n",
    "def strdate(): return datetime.today().strftime('%Y-%m-%d-%H-%M-%S')\n",
    "def ishomeserver(): return socket.gethostname()=='rc-aau-macBook'\n",
    "!pwd"
   ]
  },
  {
   "cell_type": "code",
   "execution_count": 18,
   "metadata": {},
   "outputs": [
    {
     "name": "stdout",
     "output_type": "stream",
     "text": [
      "/Users/rcabanas/work_java_crema/crema/CreMA\n"
     ]
    }
   ],
   "source": [
    "if islocal():\n",
    "    prj_path = \"/Users/rcabanas/GoogleDrive/IDSIA/causality/dev/crema/CreMA\"\n",
    "    os.environ['JAVA_HOME'] = \"/Library/Java/JavaVirtualMachines/openjdk-12.0.1.jdk/Contents/Home\"\n",
    "elif ishomeserver():\n",
    "    prj_path = \"/Users/rcabanas/work_java_crema/crema/CreMA\"\n",
    "    os.environ['JAVA_HOME']=\"/Library/Java/JavaVirtualMachines/adoptopenjdk-12.jdk/Contents/Home\"\n",
    "elif isserver():\n",
    "    prj_path=\"/home/rcabanas/work_java_crema/crema/CreMA\"\n",
    "else:\n",
    "    warnings.warn(\"Unknown server, set prj_path variable manually.\")\n",
    "os.chdir(prj_path)\n",
    "!pwd"
   ]
  },
  {
   "cell_type": "code",
   "execution_count": 20,
   "metadata": {},
   "outputs": [],
   "source": [
    "exp_folder = f\"{prj_path}/papers/pgm20/experiments/\"\n",
    "log_folder = f\"{exp_folder}/logs/\"\n",
    "res_folder = f\"{exp_folder}/results/\"\n",
    "jarfile=f\"{prj_path}/target/CreMA-0.1.1-SNAPSHOT-jar-with-dependencies.jar\"\n",
    "\n",
    "rebuild = False"
   ]
  },
  {
   "cell_type": "code",
   "execution_count": 21,
   "metadata": {},
   "outputs": [],
   "source": [
    "if rebuild:\n",
    "    !mvn install:install-file -Dfile=./external/lpsolve55j.jar -DgroupId=net.sf.lpsolve -DartifactId=lp_solve -Dversion=5.5.2 -Dpackaging=jar\n",
    "    !mvn install:install-file -Dfile=./external/polco.jar -DgroupId=ch.javasoft.polco -DartifactId=polco -Dversion=4.7.1 -Dpackaging=jar\n",
    "    !mvn clean compile assembly:single"
   ]
  },
  {
   "cell_type": "code",
   "execution_count": 22,
   "metadata": {},
   "outputs": [],
   "source": [
    "disable_java = False\n",
    "@timeout_decorator.timeout(7*6*60)\n",
    "def run_java(jarfile, javafile):\n",
    "    cmd=f\"java -cp {jarfile} {javafile}\"\n",
    "    if disable_java: cmd= \"echo 0,0,0,0,0,0\"    \n",
    "    print(cmd)\n",
    "    result =subprocess.run(cmd, universal_newlines = True, shell=True,stdout = subprocess.PIPE)\n",
    "    print(result.stdout)\n",
    "    return result\n",
    "\n",
    "# ChainNonMarkovian 6 5 1 -1 0 CCALP 1234\n",
    "def run_chain(model, N, endovarsize, exovarsize, target, obsvar, dovar, method, seed):\n",
    "    \n",
    "    \n",
    "    print(strdate())\n",
    "    exovarsize = exovarsize or endovarsize*endovarsize + 1\n",
    "    \n",
    "    if obsvar is None: obsvar = -1;\n",
    "    elif obsvar<0: obsvar = N + obsvar;\n",
    "    \n",
    "    if dovar is None: dovar = -1;    \n",
    "    elif dovar<0: dovar = N + dovar;\n",
    "    \n",
    "    if target is None: target = N//2;\n",
    "    elif target<0: target = N + target;\n",
    "    \n",
    "    warmups = 2\n",
    "    repetitions = 5\n",
    "    eps = 0.0001\n",
    "    #ChainNonMarkovian 4  -v 5 -V 9 -t 1 -o -1 -d 0 -m  CCALP --seed 12234 --warmpus 0 --repetitions 1\n",
    "    javafile = f\"{exp_folder}/RunExperiments.java {model} {N} -v {endovarsize} -V {exovarsize} -t {target} -o {obsvar} -d {dovar} -m {method} -e {eps} -s {seed} -w {warmups} -r {repetitions} \"  \n",
    "    try:\n",
    "        result = run_java(jarfile, javafile)\n",
    "        output = [float(x) for x in result.stdout.splitlines()[-1].split(\",\")]\n",
    "    except:\n",
    "        output = [float(\"inf\"),float(\"inf\")]+[float(\"nan\")]* (endovarsize*2)\n",
    "        \n",
    "    return output\n",
    "\n",
    "def run_chain_markovian(N=4, endovarsize=2, exovarsize=None, target=None, obsvar=-1, dovar=0, method=\"CVE\", seed=1234):       \n",
    "    return run_chain(\"ChainMarkovian\", N, endovarsize, exovarsize, target, obsvar, dovar, method, seed)\n",
    "\n",
    "def run_chain_nonmarkovian(N=4, endovarsize=2,exovarsize=None, target=None, obsvar=-1, dovar=0, method=\"CVE\", seed=1234):\n",
    "    return run_chain(\"ChainNonMarkovian\", N, endovarsize, exovarsize, target, obsvar, dovar, method, seed)\n",
    "\n",
    "\n",
    "def run_hmm_markovian(N=4, endovarsize=2, exovarsize=None, target=None, obsvar=-1, dovar=0, method=\"CVE\", seed=1234):       \n",
    "    return run_chain(\"HMM-Markovian\", N, endovarsize, exovarsize, target, obsvar, dovar, method, seed)\n",
    "\n",
    "def run_hmm_nonmarkovian(N=4, endovarsize=2,exovarsize=None, target=None, obsvar=-1, dovar=0, method=\"CVE\", seed=1234):\n",
    "    return run_chain(\"HMM-NonMarkovian\", N, endovarsize, exovarsize, target, obsvar, dovar, method, seed)\n",
    "\n",
    "\n",
    "def run_rhmm_markovian(N=4, endovarsize=2, exovarsize=None, target=None, obsvar=-1, dovar=0, method=\"CVE\", seed=1234):       \n",
    "    return run_chain(\"RHMM-Markovian\", N, endovarsize, exovarsize, target, obsvar, dovar, method, seed)\n",
    "\n",
    "def run_rhmm_nonmarkovian(N=4, endovarsize=2,exovarsize=None, target=None, obsvar=-1, dovar=0, method=\"CVE\", seed=1234):\n",
    "    return run_chain(\"RHMM-NonMarkovian\", N, endovarsize, exovarsize, target, obsvar, dovar, method, seed)\n",
    "\n",
    "def run_squares_markovian(N=4, endovarsize=2, exovarsize=None, target=None, obsvar=-1, dovar=0, method=\"CVE\", seed=1234):       \n",
    "    return run_chain(\"Squares-Markovian\", N, endovarsize, exovarsize, target, obsvar, dovar, method, seed)\n",
    "\n",
    "def run_squares_nonmarkovian(N=4, endovarsize=2,exovarsize=None, target=None, obsvar=-1, dovar=0, method=\"CVE\", seed=1234):\n",
    "    return run_chain(\"Squares-NonMarkovian\", N, endovarsize, exovarsize, target, obsvar, dovar, method, seed)\n",
    "\n",
    "\n",
    "\n",
    "\n",
    "def run_chain_terbin_markovian(N=4, target=None, obsvar=-1, dovar=0, method=\"CVE\", seed=1234):       \n",
    "    return run_chain(\"TerBinChainMarkovian\", N, 2, None, target, obsvar, dovar, method, seed)\n",
    "\n",
    "def run_chain_terbin_nonmarkovian(N=4, target=None, obsvar=-1, dovar=0, method=\"CVE\", seed=1234):\n",
    "    return run_chain(\"TerBinChainNonMarkovian\", N, 2, None, target, obsvar, dovar, method, seed)\n",
    "\n"
   ]
  },
  {
   "cell_type": "code",
   "execution_count": 23,
   "metadata": {},
   "outputs": [
    {
     "name": "stdout",
     "output_type": "stream",
     "text": [
      "2020-05-26-09-26-40\n",
      "java -cp /Users/rcabanas/work_java_crema/crema/CreMA/target/CreMA-0.1.1-SNAPSHOT-jar-with-dependencies.jar /Users/rcabanas/work_java_crema/crema/CreMA/papers/pgm20/experiments//RunExperiments.java HMM-NonMarkovian 5 -v 2 -V 5 -t 2 -o 4 -d 0 -m CCVE -e 0.0001 -s 1234 -w 2 -r 5 \n",
      "\n",
      "HMM-NonMarkovian\n",
      "   N=5 endovarsize=2 exovarsize=5 target=2 obsvar=4 dovar=0 method=CCVE seed=1234\n",
      "=================================================================\n",
      "Running experiments...\n",
      "Warm-up #0 in 1096.84 ms.\n",
      "Warm-up #1 in 299.552 ms.\n",
      "Measurement #0 in 265.681 ms.\n",
      "Measurement #1 in 251.005 ms.\n",
      "Measurement #2 in 236.645 ms.\n",
      "Measurement #3 in 211.623 ms.\n",
      "Measurement #4 in 191.915 ms.\n",
      "[0.9660574412532636, 0.9660574412532636]\n",
      "231.3738,4.1366000000000005,0.9660574412532636,0.9660574412532636,0.033942558746736295,0.033942558746736295\n",
      "\n"
     ]
    },
    {
     "data": {
      "text/plain": [
       "[231.3738,\n",
       " 4.1366000000000005,\n",
       " 0.9660574412532636,\n",
       " 0.9660574412532636,\n",
       " 0.033942558746736295,\n",
       " 0.033942558746736295]"
      ]
     },
     "execution_count": 23,
     "metadata": {},
     "output_type": "execute_result"
    }
   ],
   "source": [
    "run_hmm_nonmarkovian(N=5, method=\"CCVE\")"
   ]
  },
  {
   "cell_type": "code",
   "execution_count": 24,
   "metadata": {
    "scrolled": true
   },
   "outputs": [],
   "source": [
    "\n",
    "def run_experiments(f, args, outkeys, fargs=None, verbose=False, lenght_dep_vars = None, non_evaluable=[]):\n",
    "    \n",
    "    \n",
    "    \n",
    "    print(\"=========\")\n",
    "    print(args)\n",
    "    print(\"=========\")         \n",
    "        \n",
    "    result = pd.DataFrame(columns=list(args.keys())+list(outkeys))\n",
    "    log_file = f\"{log_folder}{strdate()}_{f.__name__}.txt\"\n",
    "    \n",
    "    data = pd.DataFrame(list(itertools.product(*list(args.values()))), columns = args.keys())\n",
    "    \n",
    "    fargs = fargs or {}\n",
    "    for k,v in fargs.items():\n",
    "        data[k]=data.apply(v, axis=1)\n",
    "        \n",
    "        \n",
    "    non_evaluable = non_evaluable or [] \n",
    "    \n",
    "    lenght_dep_vars = lenght_dep_vars or [\"N\"]\n",
    "    \n",
    "    def is_evaluable(args):\n",
    "        current = {k:v for (k,v) in args.items() if k not in lenght_dep_vars}\n",
    "        previous = [{k:v for (k,v) in a.items() if k not in lenght_dep_vars} for a in non_evaluable]\n",
    "        \n",
    "        print(f\"current: {current}\")\n",
    "        print(f\"previous: {previous}\")\n",
    "\n",
    "        \n",
    "        return not current in previous\n",
    "       \n",
    "    def single_experiment(argsv):\n",
    "        if is_evaluable(argsv):\n",
    "            outvals = f(**argsv)\n",
    "            if np.isnan(outvals).any(): \n",
    "                non_evaluable.append(argsv)\n",
    "                print(f\"setting as not evaluable: {argsv}\")\n",
    "        else:\n",
    "            outvals=[float(\"nan\")]*len(outkeys)\n",
    "        return outvals    \n",
    "        \n",
    "    \n",
    "    for argsv in data.to_dict(orient=\"row\"):    \n",
    "        \n",
    "        strio = io.StringIO()\n",
    "        \n",
    "           \n",
    "        \n",
    "        with open(log_file, 'a+') as logger:\n",
    "            if verbose == False:\n",
    "                with redirect_stdout(strio):\n",
    "                    outvals = single_experiment(argsv)\n",
    "            else:\n",
    "                outvals = single_experiment(argsv)   \n",
    "            \n",
    "            logger.write(strio.getvalue())\n",
    "            \n",
    "            \n",
    "        result = result.append({**argsv, **dict(zip(list(outkeys), outvals))}, ignore_index=True)\n",
    "        print(dict(result.iloc[-1]))\n",
    "        print(\"\\n\\n\")\n",
    "    \n",
    "    return result\n",
    "\n",
    "def get_args(**kwargs): return kwargs\n",
    "\n",
    "##\n",
    "\n",
    "\n"
   ]
  },
  {
   "cell_type": "code",
   "execution_count": 25,
   "metadata": {},
   "outputs": [],
   "source": [
    "SEED = [1234+i*1234 for i in range(10)]\n",
    "res = {}\n"
   ]
  },
  {
   "cell_type": "code",
   "execution_count": null,
   "metadata": {},
   "outputs": [],
   "source": [
    "# with evidence chain markovian  RUN\n",
    "\n",
    "endovarsize = 2\n",
    "args = dict(N=list(range(3,20,1)), dovar=[0], obsvar=[-1], seed=SEED, exovarsize=[6], method=[\"CVE\", \"CCVE\",\"CCALPeps\"])\n",
    "outkeys = [\"time\", \"query_time\"]+ sum([[f\"lowerbound{i}\", f\"upperbound{i}\"] for i in range(0,endovarsize)], [])\n",
    "\n",
    "results1 = run_experiments(run_chain_markovian, args, outkeys)\n",
    "res_file = f\"{res_folder}{strdate()}_chain_markovian_ev.csv\"\n",
    "results1.to_csv(res_file)\n",
    "\n",
    "res[\"chain_markovian_ev\"] = results1"
   ]
  },
  {
   "cell_type": "code",
   "execution_count": null,
   "metadata": {},
   "outputs": [],
   "source": [
    "## with evidence chain NON markovian \n",
    "endovarsize = 2    \n",
    "args = dict(N=list(range(3,25,1)), dovar=[0], obsvar=[-1], seed=SEED, exovarsize=[6], method=[\"CVE\", \"CCVE\", \"CCALPeps\"])\n",
    "outkeys = [\"time\", \"query_time\"]+ sum([[f\"lowerbound{i}\", f\"upperbound{i}\"] for i in range(0,endovarsize)], [])\n",
    "\n",
    "results1 = run_experiments(run_chain_nonmarkovian, args, outkeys)\n",
    "res_file = f\"{res_folder}{strdate()}_chain_nonmarkovian_ev.csv\"\n",
    "results1.to_csv(res_file)\n",
    "                     \n",
    "res[\"chain_nonmarkovian_ev\"] = results1"
   ]
  },
  {
   "cell_type": "code",
   "execution_count": null,
   "metadata": {},
   "outputs": [],
   "source": [
    "# run\n",
    "# with evidence HMM markovian \n",
    "\n",
    "endovarsize = 2\n",
    "args = dict(N=list(range(3,30,1)), dovar=[0], seed=SEED, exovarsize=[6], method=[\"CVE\", \"CCVE\",\"CCALPeps\"])\n",
    "outkeys = [\"time\", \"query_time\"]+ sum([[f\"lowerbound{i}\", f\"upperbound{i}\"] for i in range(0,endovarsize)], [])\n",
    "fargs = dict(target = lambda t: int(((t[\"N\"]-1)//2)*2),\n",
    "             obsvar = lambda t: int(t[\"N\"]*2 - 1))\n",
    "\n",
    "lenght_dep_vars = [\"N\", \"target\", \"obsvar\"]\n",
    "\n",
    "results1 = run_experiments(run_hmm_markovian, args, outkeys, fargs, lenght_dep_vars=lenght_dep_vars)\n",
    "res_file = f\"{res_folder}{strdate()}_hmm_markovian_ev.csv\"\n",
    "results1.to_csv(res_file)\n",
    "\n",
    "res[\"hmm_markovian_ev\"] = results1"
   ]
  },
  {
   "cell_type": "code",
   "execution_count": null,
   "metadata": {},
   "outputs": [],
   "source": [
    "# with evidence HMM nonmarkovian \n",
    "\n",
    "endovarsize = 2\n",
    "args = dict(N=list(range(3,30,1)), dovar=[0], seed=SEED, exovarsize=[6], method=[\"CVE\", \"CCVE\",\"CCALPeps\"])\n",
    "outkeys = [\"time\", \"query_time\"]+ sum([[f\"lowerbound{i}\", f\"upperbound{i}\"] for i in range(0,endovarsize)], [])\n",
    "fargs = dict(target = lambda t: int(((t[\"N\"]-1)//2)*2),\n",
    "             obsvar = lambda t: int(t[\"N\"]*2 - 1))\n",
    "\n",
    "lenght_dep_vars = [\"N\", \"target\", \"obsvar\"]\n",
    "\n",
    "results1 = run_experiments(run_hmm_nonmarkovian, args, outkeys, fargs, lenght_dep_vars=lenght_dep_vars)\n",
    "res_file = f\"{res_folder}{strdate()}_hmm_nonmarkovian_ev.csv\"\n",
    "results1.to_csv(res_file)\n",
    "\n",
    "res[\"hmm_nonmarkovian_ev\"] = results1"
   ]
  },
  {
   "cell_type": "code",
   "execution_count": null,
   "metadata": {},
   "outputs": [
    {
     "name": "stdout",
     "output_type": "stream",
     "text": [
      "=========\n",
      "{'N': [3, 4, 5, 6, 7, 8, 9, 10, 11, 12, 13, 14, 15, 16, 17, 18, 19, 20, 21, 22, 23, 24], 'dovar': [0], 'seed': [1234, 2468, 3702, 4936, 6170, 7404, 8638, 9872, 11106, 12340], 'exovarsize': [6], 'method': ['CVE', 'CCVE', 'CCALPeps']}\n",
      "=========\n",
      "{'N': 3, 'dovar': 0, 'seed': 1234, 'exovarsize': 6, 'method': 'CVE', 'time': 6.8313999999999995, 'query_time': 5.8686, 'lowerbound0': 0.457464096500152, 'upperbound0': 0.457464096500152, 'lowerbound1': 0.542535903499848, 'upperbound1': 0.542535903499848, 'obsvar': 4.0, 'target': 2.0}\n",
      "\n",
      "\n",
      "\n",
      "{'N': 3, 'dovar': 0, 'seed': 1234, 'exovarsize': 6, 'method': 'CCVE', 'time': 215.88059999999996, 'query_time': 60.139599999999994, 'lowerbound0': 0.45746409650015196, 'upperbound0': 0.45746409650015196, 'lowerbound1': 0.542535903499848, 'upperbound1': 0.542535903499848, 'obsvar': 4.0, 'target': 2.0}\n",
      "\n",
      "\n",
      "\n",
      "{'N': 3, 'dovar': 0, 'seed': 1234, 'exovarsize': 6, 'method': 'CCALPeps', 'time': 1196.7482, 'query_time': 1190.5892, 'lowerbound0': 0.4574312376913952, 'upperbound0': 0.4574592064360552, 'lowerbound1': 0.5425407935639448, 'upperbound1': 0.5425687623086048, 'obsvar': 4.0, 'target': 2.0}\n",
      "\n",
      "\n",
      "\n",
      "{'N': 3, 'dovar': 0, 'seed': 2468, 'exovarsize': 6, 'method': 'CVE', 'time': 6.3362, 'query_time': 5.413600000000001, 'lowerbound0': 0.9866070985592904, 'upperbound0': 0.9866070985592904, 'lowerbound1': 0.013392901440709565, 'upperbound1': 0.013392901440709565, 'obsvar': 4.0, 'target': 2.0}\n",
      "\n",
      "\n",
      "\n",
      "{'N': 3, 'dovar': 0, 'seed': 2468, 'exovarsize': 6, 'method': 'CCVE', 'time': 241.53879999999998, 'query_time': 68.251, 'lowerbound0': 0.9866070985592904, 'upperbound0': 0.9866070985592904, 'lowerbound1': 0.013392901440709563, 'upperbound1': 0.013392901440709563, 'obsvar': 4.0, 'target': 2.0}\n",
      "\n",
      "\n",
      "\n",
      "{'N': 3, 'dovar': 0, 'seed': 2468, 'exovarsize': 6, 'method': 'CCALPeps', 'time': 1205.8806, 'query_time': 1199.6002, 'lowerbound0': 0.9865583346809595, 'upperbound0': 0.9865583346809595, 'lowerbound1': 0.013441665319040452, 'upperbound1': 0.013441665319040473, 'obsvar': 4.0, 'target': 2.0}\n",
      "\n",
      "\n",
      "\n",
      "{'N': 3, 'dovar': 0, 'seed': 3702, 'exovarsize': 6, 'method': 'CVE', 'time': 5.5658, 'query_time': 4.718999999999999, 'lowerbound0': 0.04198913974948058, 'upperbound0': 0.04198913974948058, 'lowerbound1': 0.9580108602505194, 'upperbound1': 0.9580108602505194, 'obsvar': 4.0, 'target': 2.0}\n",
      "\n",
      "\n",
      "\n",
      "{'N': 3, 'dovar': 0, 'seed': 3702, 'exovarsize': 6, 'method': 'CCVE', 'time': 240.8708, 'query_time': 73.4404, 'lowerbound0': 0.04198913974948058, 'upperbound0': 0.04198913974948058, 'lowerbound1': 0.9580108602505194, 'upperbound1': 0.9580108602505194, 'obsvar': 4.0, 'target': 2.0}\n",
      "\n",
      "\n",
      "\n",
      "{'N': 3, 'dovar': 0, 'seed': 3702, 'exovarsize': 6, 'method': 'CCALPeps', 'time': 1224.9312, 'query_time': 1218.6850000000002, 'lowerbound0': 0.0421240093347802, 'upperbound0': 0.04212400933478028, 'lowerbound1': 0.9578759906652197, 'upperbound1': 0.9578759906652198, 'obsvar': 4.0, 'target': 2.0}\n",
      "\n",
      "\n",
      "\n",
      "{'N': 3, 'dovar': 0, 'seed': 4936, 'exovarsize': 6, 'method': 'CVE', 'time': 6.809400000000001, 'query_time': 5.904999999999999, 'lowerbound0': 0.5981415933075687, 'upperbound0': 0.5981415933075687, 'lowerbound1': 0.40185840669243134, 'upperbound1': 0.40185840669243134, 'obsvar': 4.0, 'target': 2.0}\n",
      "\n",
      "\n",
      "\n"
     ]
    }
   ],
   "source": [
    "# with evidence RevHMM nonmarkovian RUN\n",
    "endovarsize = 2\n",
    "args = dict(N=list(range(3,25,1)), dovar=[0], seed=SEED, exovarsize=[6], method=[\"CVE\", \"CCVE\",\"CCALPeps\"])\n",
    "outkeys = [\"time\", \"query_time\"]+ sum([[f\"lowerbound{i}\", f\"upperbound{i}\"] for i in range(0,endovarsize)], [])\n",
    "fargs = dict(target = lambda t: int(((t[\"N\"]-1)//2)*2),\n",
    "             obsvar = lambda t: int(t[\"N\"]*2 - 2))\n",
    "\n",
    "lenght_dep_vars = [\"N\", \"target\", \"obsvar\"]\n",
    "\n",
    "results1 = run_experiments(run_rhmm_nonmarkovian, args, outkeys, fargs, lenght_dep_vars=lenght_dep_vars)\n",
    "res_file = f\"{res_folder}{strdate()}_rhmm_nonmarkovian_ev.csv\"\n",
    "results1.to_csv(res_file)\n",
    "\n",
    "res[\"rhmm_nonmarkovian_ev\"] = results1"
   ]
  },
  {
   "cell_type": "code",
   "execution_count": null,
   "metadata": {},
   "outputs": [],
   "source": [
    "# with evidence RevHMM markovian \n",
    "\n",
    "endovarsize = 2\n",
    "args = dict(N=list(range(3,20,1)), dovar=[0], seed=SEED, exovarsize=[6], method=[\"CVE\", \"CCVE\",\"CCALPeps\"])\n",
    "outkeys = [\"time\", \"query_time\"]+ sum([[f\"lowerbound{i}\", f\"upperbound{i}\"] for i in range(0,endovarsize)], [])\n",
    "fargs = dict(target = lambda t: int(((t[\"N\"]-1)//2)*2),\n",
    "             obsvar = lambda t: int(t[\"N\"]*2 - 1))\n",
    "\n",
    "lenght_dep_vars = [\"N\", \"target\", \"obsvar\"]\n",
    "\n",
    "results1 = run_experiments(run_rhmm_markovian, args, outkeys, fargs, lenght_dep_vars=lenght_dep_vars)\n",
    "res_file = f\"{res_folder}{strdate()}_rhmm_markovian_ev.csv\"\n",
    "results1.to_csv(res_file)\n",
    "\n",
    "res[\"rhmm_markovian_ev\"] = results1"
   ]
  },
  {
   "cell_type": "code",
   "execution_count": null,
   "metadata": {},
   "outputs": [],
   "source": [
    "\n",
    "# with evidence Squares nonmarkovian \n",
    "\n",
    "endovarsize = 2\n",
    "args = dict(N=list(range(3,15,1)), dovar=[0], seed=SEED, exovarsize=[6], method=[\"CVE\", \"CCVE\",\"CCALPeps\"])\n",
    "outkeys = [\"time\", \"query_time\"]+ sum([[f\"lowerbound{i}\", f\"upperbound{i}\"] for i in range(0,endovarsize)], [])\n",
    "fargs = dict(target = lambda t: int(((t[\"N\"]-1)//2)*2),\n",
    "             obsvar = lambda t: int(t[\"N\"]*2 - 1))\n",
    "\n",
    "lenght_dep_vars = [\"N\", \"target\", \"obsvar\"]\n",
    "\n",
    "results1 = run_experiments(run_squares_nonmarkovian, args, outkeys, fargs, lenght_dep_vars=lenght_dep_vars)\n",
    "res_file = f\"{res_folder}{strdate()}_squares_nonmarkovian_ev.csv\"\n",
    "results1.to_csv(res_file)\n",
    "\n",
    "res[\"squares_nonmarkovian_ev\"] = results1"
   ]
  },
  {
   "cell_type": "code",
   "execution_count": null,
   "metadata": {},
   "outputs": [],
   "source": [
    "\n",
    "# with evidence Squares nonmarkovian \n",
    "\n",
    "endovarsize = 2\n",
    "args = dict(N=list(range(3,15,1)), dovar=[0], seed=SEED, exovarsize=[6], method=[\"CVE\", \"CCVE\",\"CCALPeps\"])\n",
    "outkeys = [\"time\", \"query_time\"]+ sum([[f\"lowerbound{i}\", f\"upperbound{i}\"] for i in range(0,endovarsize)], [])\n",
    "fargs = dict(target = lambda t: int(((t[\"N\"]-1)//2)*2),\n",
    "             obsvar = lambda t: int(t[\"N\"]*2 - 1))\n",
    "\n",
    "lenght_dep_vars = [\"N\", \"target\", \"obsvar\"]\n",
    "\n",
    "results1 = run_experiments(run_squares_nonmarkovian, args, outkeys, fargs, lenght_dep_vars=lenght_dep_vars)\n",
    "res_file = f\"{res_folder}{strdate()}_squares_nonmarkovian_ev.csv\"\n",
    "results1.to_csv(res_file)\n",
    "\n",
    "res[\"squares_nonmarkovian_ev\"] = results1\n"
   ]
  },
  {
   "cell_type": "code",
   "execution_count": null,
   "metadata": {},
   "outputs": [],
   "source": []
  },
  {
   "cell_type": "code",
   "execution_count": null,
   "metadata": {},
   "outputs": [],
   "source": []
  },
  {
   "cell_type": "code",
   "execution_count": 10,
   "metadata": {},
   "outputs": [
    {
     "name": "stdout",
     "output_type": "stream",
     "text": [
      "On branch dev\n",
      "Your branch is up to date with 'origin/dev'.\n",
      "\n",
      "Changes not staged for commit:\n",
      "  (use \"git add <file>...\" to update what will be committed)\n",
      "  (use \"git checkout -- <file>...\" to discard changes in working directory)\n",
      "\n",
      "\t\u001b[31mmodified:   papers/pgm20/experiments/img/size_results.tex\u001b[m\n",
      "\t\u001b[31mmodified:   papers/pgm20/experiments/img/time_results.tex\u001b[m\n",
      "\t\u001b[31mmodified:   papers/pgm20/experiments/paper_results.ipynb\u001b[m\n",
      "\t\u001b[31mmodified:   papers/pgm20/experiments/precission_experiments.ipynb\u001b[m\n",
      "\t\u001b[31mmodified:   papers/pgm20/experiments/time_experiments.ipynb\u001b[m\n",
      "\t\u001b[31mmodified:   papers/pgm20/experiments/utilplots.py\u001b[m\n",
      "\n",
      "Untracked files:\n",
      "  (use \"git add <file>...\" to include in what will be committed)\n",
      "\n",
      "\t\u001b[31mpapers/pgm20/experiments/.ipynb_checkpoints/util-results-checkpoint.ipynb\u001b[m\n",
      "\t\u001b[31mpapers/pgm20/experiments/logs/.ipynb_checkpoints/2020-05-22-10-51-09_run_rhmm_nonmarkovian-checkpoint.txt\u001b[m\n",
      "\t\u001b[31mpapers/pgm20/experiments/logs/.ipynb_checkpoints/2020-05-22-13-46-04_run_chain_nonmarkovian-checkpoint.txt\u001b[m\n",
      "\t\u001b[31mpapers/pgm20/experiments/logs/2020-05-22-10-51-09_run_rhmm_nonmarkovian.txt\u001b[m\n",
      "\t\u001b[31mpapers/pgm20/experiments/logs/2020-05-22-13-42-50_run_hmm_nonmarkovian.txt\u001b[m\n",
      "\t\u001b[31mpapers/pgm20/experiments/logs/2020-05-22-13-46-04_run_chain_nonmarkovian.txt\u001b[m\n",
      "\t\u001b[31mpapers/pgm20/experiments/results/.ipynb_checkpoints/2020-05-15-06-25-18_chain_nonmarkovian_ev-checkpoint.csv\u001b[m\n",
      "\t\u001b[31mpapers/pgm20/experiments/results/.ipynb_checkpoints/2020-05-22-13-25-24_rhmm_nonmarkovian_ev-checkpoint.csv\u001b[m\n",
      "\t\u001b[31mpapers/pgm20/experiments/results/2020-05-22-11-43-29_rhmm_nonmarkovian_ev.csv\u001b[m\n",
      "\t\u001b[31mpapers/pgm20/experiments/results/2020-05-22-13-25-24_rhmm_nonmarkovian_ev.csv\u001b[m\n",
      "\t\u001b[31mpapers/pgm20/experiments/util-results.ipynb\u001b[m\n",
      "\n",
      "no changes added to commit (use \"git add\" and/or \"git commit -a\")\n"
     ]
    }
   ],
   "source": []
  },
  {
   "cell_type": "code",
   "execution_count": null,
   "metadata": {},
   "outputs": [],
   "source": []
  }
 ],
 "metadata": {
  "kernelspec": {
   "display_name": "Python 3",
   "language": "python",
   "name": "python3"
  },
  "language_info": {
   "codemirror_mode": {
    "name": "ipython",
    "version": 3
   },
   "file_extension": ".py",
   "mimetype": "text/x-python",
   "name": "python",
   "nbconvert_exporter": "python",
   "pygments_lexer": "ipython3",
   "version": "3.6.9"
  }
 },
 "nbformat": 4,
 "nbformat_minor": 4
}
